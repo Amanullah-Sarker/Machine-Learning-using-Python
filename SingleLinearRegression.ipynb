{
  "nbformat": 4,
  "nbformat_minor": 0,
  "metadata": {
    "colab": {
      "name": "SingleLinearRegression.ipynb",
      "provenance": [],
      "authorship_tag": "ABX9TyM+ieD5OvYc1p4/HNcb6bCh",
      "include_colab_link": true
    },
    "kernelspec": {
      "name": "python3",
      "display_name": "Python 3"
    },
    "language_info": {
      "name": "python"
    }
  },
  "cells": [
    {
      "cell_type": "markdown",
      "metadata": {
        "id": "view-in-github",
        "colab_type": "text"
      },
      "source": [
        "<a href=\"https://colab.research.google.com/github/amanullah33/Machine-Learning-using-Python/blob/main/SingleLinearRegression.ipynb\" target=\"_parent\"><img src=\"https://colab.research.google.com/assets/colab-badge.svg\" alt=\"Open In Colab\"/></a>"
      ]
    },
    {
      "cell_type": "markdown",
      "metadata": {
        "id": "08_Z9v8bF0_m"
      },
      "source": [
        "**Import Library**"
      ]
    },
    {
      "cell_type": "code",
      "metadata": {
        "id": "9bU9vwZbFi0Z"
      },
      "source": [
        "import sklearn\n",
        "import matplotlib.pyplot as plt\n",
        "import numpy as np\n",
        "from sklearn import model_selection\n",
        "from sklearn import linear_model\n",
        "import random"
      ],
      "execution_count": 1,
      "outputs": []
    },
    {
      "cell_type": "code",
      "metadata": {
        "id": "zbkwphDfF0j2"
      },
      "source": [
        "x = list(range(0,10))\n",
        "y = [1.8 * F + 32 for F in x]"
      ],
      "execution_count": 3,
      "outputs": []
    },
    {
      "cell_type": "markdown",
      "metadata": {
        "id": "AmJgndIlGLs0"
      },
      "source": [
        "**For Adding Noise in Dataset-**"
      ]
    },
    {
      "cell_type": "code",
      "metadata": {
        "id": "i9IRPofRGIpE"
      },
      "source": [
        "#y = [1.8 * F + 32 + random.randint(-3, 3) for F in x]"
      ],
      "execution_count": null,
      "outputs": []
    },
    {
      "cell_type": "code",
      "metadata": {
        "colab": {
          "base_uri": "https://localhost:8080/"
        },
        "id": "TeconjwOGPk3",
        "outputId": "26721a9f-0e69-44df-9e2f-d5fbd4453868"
      },
      "source": [
        "print(f'X: {x}')\n",
        "print(f'Y: {y}')"
      ],
      "execution_count": 4,
      "outputs": [
        {
          "output_type": "stream",
          "text": [
            "X: [0, 1, 2, 3, 4, 5, 6, 7, 8, 9]\n",
            "Y: [32.0, 33.8, 35.6, 37.4, 39.2, 41.0, 42.8, 44.6, 46.4, 48.2]\n"
          ],
          "name": "stdout"
        }
      ]
    },
    {
      "cell_type": "markdown",
      "metadata": {
        "id": "opWUbRSbG74k"
      },
      "source": [
        "**See Plot of Dataset**"
      ]
    },
    {
      "cell_type": "code",
      "metadata": {
        "colab": {
          "base_uri": "https://localhost:8080/",
          "height": 265
        },
        "id": "1t8x1ZgNGU7d",
        "outputId": "2fe92cc3-d664-4d46-b08c-85d28d90af86"
      },
      "source": [
        "plt.plot(x, y, '-*b')\n",
        "plt.show()"
      ],
      "execution_count": 5,
      "outputs": [
        {
          "output_type": "display_data",
          "data": {
            "image/png": "[encoded data removed]",
            "text/plain": [
              "<Figure size 432x288 with 1 Axes>"
            ]
          },
          "metadata": {
            "tags": [],
            "needs_background": "light"
          }
        }
      ]
    },
    {
      "cell_type": "markdown",
      "metadata": {
        "id": "ty1PxKoYHAUU"
      },
      "source": [
        "**Reshape x & y**"
      ]
    },
    {
      "cell_type": "code",
      "metadata": {
        "id": "sXYeiI3RGW26"
      },
      "source": [
        "x = np.array(x).reshape(-1, 1)\n",
        "y = np.array(y).reshape(-1, 1)"
      ],
      "execution_count": 7,
      "outputs": []
    },
    {
      "cell_type": "code",
      "metadata": {
        "colab": {
          "base_uri": "https://localhost:8080/"
        },
        "id": "ykQtiGcSGb4_",
        "outputId": "8b1df7c6-d6a1-443d-8884-8d93e6e70fb6"
      },
      "source": [
        "print(f'X: {x}')\n",
        "print(f'Y: {y}')"
      ],
      "execution_count": 8,
      "outputs": [
        {
          "output_type": "stream",
          "text": [
            "X: [[0]\n",
            " [1]\n",
            " [2]\n",
            " [3]\n",
            " [4]\n",
            " [5]\n",
            " [6]\n",
            " [7]\n",
            " [8]\n",
            " [9]]\n",
            "Y: [[32. ]\n",
            " [33.8]\n",
            " [35.6]\n",
            " [37.4]\n",
            " [39.2]\n",
            " [41. ]\n",
            " [42.8]\n",
            " [44.6]\n",
            " [46.4]\n",
            " [48.2]]\n"
          ],
          "name": "stdout"
        }
      ]
    },
    {
      "cell_type": "markdown",
      "metadata": {
        "id": "2HZ6EkAMHGHl"
      },
      "source": [
        "**Divided Dataset into Train & Test**"
      ]
    },
    {
      "cell_type": "code",
      "metadata": {
        "id": "dSsXVWofGf4M"
      },
      "source": [
        "xTrain, xTest, yTrain, yTest = model_selection.train_test_split(x, y, test_size=0.2)"
      ],
      "execution_count": 9,
      "outputs": []
    },
    {
      "cell_type": "code",
      "metadata": {
        "colab": {
          "base_uri": "https://localhost:8080/"
        },
        "id": "lbRTOQKqGnIF",
        "outputId": "c9fa9651-faeb-402d-83f7-4ee286735c70"
      },
      "source": [
        "print(\"Shape of x Train: \", xTrain.shape)"
      ],
      "execution_count": 10,
      "outputs": [
        {
          "output_type": "stream",
          "text": [
            "Shape of x Train:  (8, 1)\n"
          ],
          "name": "stdout"
        }
      ]
    },
    {
      "cell_type": "markdown",
      "metadata": {
        "id": "TXdHg-WxHLI8"
      },
      "source": [
        "**Implementation of Algorithm**"
      ]
    },
    {
      "cell_type": "code",
      "metadata": {
        "colab": {
          "base_uri": "https://localhost:8080/"
        },
        "id": "teOcSJbSGqP8",
        "outputId": "f2d36b0b-9801-4368-f37c-24808f13183c"
      },
      "source": [
        "model = linear_model.LinearRegression()\n",
        "model.fit(xTrain, yTrain)"
      ],
      "execution_count": 11,
      "outputs": [
        {
          "output_type": "execute_result",
          "data": {
            "text/plain": [
              "LinearRegression(copy_X=True, fit_intercept=True, n_jobs=None, normalize=False)"
            ]
          },
          "metadata": {
            "tags": []
          },
          "execution_count": 11
        }
      ]
    },
    {
      "cell_type": "code",
      "metadata": {
        "colab": {
          "base_uri": "https://localhost:8080/"
        },
        "id": "6EawknkrGrNs",
        "outputId": "8a467e7e-78e2-41d7-d607-70941edf1279"
      },
      "source": [
        "print(f'Coefficient: {model.coef_}')\n",
        "print(f'Intercept: {model.intercept_}')"
      ],
      "execution_count": 12,
      "outputs": [
        {
          "output_type": "stream",
          "text": [
            "Coefficient: [[1.8]]\n",
            "Intercept: [32.]\n"
          ],
          "name": "stdout"
        }
      ]
    },
    {
      "cell_type": "markdown",
      "metadata": {
        "id": "kOzb9D0rHPdM"
      },
      "source": [
        "**Accuracy Testing**"
      ]
    },
    {
      "cell_type": "code",
      "metadata": {
        "id": "Xh0GAlHEGu8k"
      },
      "source": [
        "accuracy = model.score(xTest, yTest)"
      ],
      "execution_count": 13,
      "outputs": []
    },
    {
      "cell_type": "code",
      "metadata": {
        "colab": {
          "base_uri": "https://localhost:8080/"
        },
        "id": "ZOedDlRoGwj8",
        "outputId": "d79d653a-b42b-48a2-9975-92d25c7ae06a"
      },
      "source": [
        "print(f'Accuracy of Linear Regression: {round(accuracy * 100, 2)}')"
      ],
      "execution_count": 14,
      "outputs": [
        {
          "output_type": "stream",
          "text": [
            "Accuracy of Linear Regression: 100.0\n"
          ],
          "name": "stdout"
        }
      ]
    }
  ]
}